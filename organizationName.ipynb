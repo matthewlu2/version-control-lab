{
 "cells": [
  {
   "cell_type": "code",
   "execution_count": 23,
   "metadata": {},
   "outputs": [
    {
     "name": "stdin",
     "output_type": "stream",
     "text": [
      "hi, what's your name? matthew\n",
      "great, now tell me your school email address! mal554@pitt.edu\n"
     ]
    },
    {
     "name": "stdout",
     "output_type": "stream",
     "text": [
      "\n",
      "\n",
      "your organization's website is: @pitt.edu\n",
      "and, your user name for the website is: mal554\n",
      "GO PITT!\n"
     ]
    }
   ],
   "source": [
    "name = input(\"hi, what's your name?\")\n",
    "email = input(\"great, now tell me your school email address!\")\n",
    "\n",
    "\n",
    "x = email.index(\"@\")\n",
    "x = int(x)\n",
    "yay = (email[x:])\n",
    "z = (email[:x])\n",
    "\n",
    "print(\"\\n\")\n",
    "print(\"your organization's website is:\", yay)\n",
    "print(\"and, your user name for the website is:\", z)\n",
    "    \n",
    "a = yay.index(\"@\") + 1\n",
    "a = int(a)\n",
    "p = yay.index(\".\")\n",
    "p = int(p)\n",
    "school = (yay[a:p])\n",
    "print(\"GO\", school.upper() + \"!\")"
   ]
  }
 ],
 "metadata": {
  "kernelspec": {
   "display_name": "Python 3",
   "language": "python",
   "name": "python3"
  },
  "language_info": {
   "codemirror_mode": {
    "name": "ipython",
    "version": 3
   },
   "file_extension": ".py",
   "mimetype": "text/x-python",
   "name": "python",
   "nbconvert_exporter": "python",
   "pygments_lexer": "ipython3",
   "version": "3.8.3"
  }
 },
 "nbformat": 4,
 "nbformat_minor": 4
}
